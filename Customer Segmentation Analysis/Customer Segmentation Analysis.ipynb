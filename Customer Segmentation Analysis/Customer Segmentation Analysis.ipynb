{
 "cells": [
  {
   "cell_type": "markdown",
   "id": "26c28e9b",
   "metadata": {},
   "source": [
    "<u><h1 style=\"text-align:center;\">Customer Segmentation Analysis</h1></u>"
   ]
  },
  {
   "cell_type": "markdown",
   "id": "14b08412",
   "metadata": {},
   "source": [
    "**Customer segmentation** is a crucial technique used by businesses to understand and target their customer base more effectively. This project focuses on analyzing customer data to divide a customer base into distinct segments, each sharing similar characteristics. The primary goal is to leverage these insights to enhance marketing strategies, improve customer engagement, and ultimately boost sales conversion rates.\n",
    "\n",
    "The main objective of this project is to apply various clustering algorithms to a dataset of customer information in order to identify meaningful customer segments. By understanding the unique characteristics and behaviors of each segment, businesses can tailor their strategies to meet the specific needs and preferences of different customer groups.\n",
    "\n",
    "The dataset used for this analysis is [Mall Customer Segmentation Data](https://www.kaggle.com/vjchoudhary7/customer-segmentation-tutorial-in-python)\n",
    " from Kaggle. It includes the following features:\n",
    "\n",
    "* CustomerID: Unique identifier for each customer.\n",
    "* Gender: Gender of the customer.\n",
    "* Age: Age of the customer.\n",
    "* Annual Income (k$): Annual income of the customer in thousands of dollars.\n",
    "* Spending Score (1-100): Score assigned by the mall based on customer behavior and spending nature.\n",
    "\n",
    "The dataset contains 200 records with 5 features, providing a comprehensive view of customer demographics and behavior, essential for meaningful segmentation."
   ]
  },
  {
   "cell_type": "markdown",
   "id": "460e2d88",
   "metadata": {},
   "source": [
    "### Data Loading and Exploration\n",
    "We start by loading the dataset and performing initial exploration to understand its structure and contents."
   ]
  },
  {
   "cell_type": "code",
   "execution_count": null,
   "id": "c3c4ac26",
   "metadata": {},
   "outputs": [],
   "source": [
    "import pandas as pd\n",
    "import numpy as np\n",
    "import matplotlib.pyplot as plt\n",
    "from sklearn.cluster import KMeans\n",
    "from sklearn.preprocessing import StandardScaler     #select relevant features and scale them\n",
    "from sklearn.metrics import silhouette_score\n",
    "import warnings\n",
    "\n",
    "#suppress warnings\n",
    "warnings.filterwarnings(\"ignore\")"
   ]
  },
  {
   "cell_type": "code",
   "execution_count": 16,
   "id": "1ef9097e",
   "metadata": {},
   "outputs": [],
   "source": [
    "#load the dataset\n",
    "df = pd.read_csv('Mall_Customers.csv')"
   ]
  },
  {
   "cell_type": "code",
   "execution_count": 17,
   "id": "0e25fdc4",
   "metadata": {},
   "outputs": [
    {
     "data": {
      "text/html": [
       "<div>\n",
       "<style scoped>\n",
       "    .dataframe tbody tr th:only-of-type {\n",
       "        vertical-align: middle;\n",
       "    }\n",
       "\n",
       "    .dataframe tbody tr th {\n",
       "        vertical-align: top;\n",
       "    }\n",
       "\n",
       "    .dataframe thead th {\n",
       "        text-align: right;\n",
       "    }\n",
       "</style>\n",
       "<table border=\"1\" class=\"dataframe\">\n",
       "  <thead>\n",
       "    <tr style=\"text-align: right;\">\n",
       "      <th></th>\n",
       "      <th>CustomerID</th>\n",
       "      <th>Gender</th>\n",
       "      <th>Age</th>\n",
       "      <th>Annual Income (k$)</th>\n",
       "      <th>Spending Score (1-100)</th>\n",
       "    </tr>\n",
       "  </thead>\n",
       "  <tbody>\n",
       "    <tr>\n",
       "      <th>0</th>\n",
       "      <td>1</td>\n",
       "      <td>Male</td>\n",
       "      <td>19</td>\n",
       "      <td>15</td>\n",
       "      <td>39</td>\n",
       "    </tr>\n",
       "    <tr>\n",
       "      <th>1</th>\n",
       "      <td>2</td>\n",
       "      <td>Male</td>\n",
       "      <td>21</td>\n",
       "      <td>15</td>\n",
       "      <td>81</td>\n",
       "    </tr>\n",
       "    <tr>\n",
       "      <th>2</th>\n",
       "      <td>3</td>\n",
       "      <td>Female</td>\n",
       "      <td>20</td>\n",
       "      <td>16</td>\n",
       "      <td>6</td>\n",
       "    </tr>\n",
       "    <tr>\n",
       "      <th>3</th>\n",
       "      <td>4</td>\n",
       "      <td>Female</td>\n",
       "      <td>23</td>\n",
       "      <td>16</td>\n",
       "      <td>77</td>\n",
       "    </tr>\n",
       "    <tr>\n",
       "      <th>4</th>\n",
       "      <td>5</td>\n",
       "      <td>Female</td>\n",
       "      <td>31</td>\n",
       "      <td>17</td>\n",
       "      <td>40</td>\n",
       "    </tr>\n",
       "  </tbody>\n",
       "</table>\n",
       "</div>"
      ],
      "text/plain": [
       "   CustomerID  Gender  Age  Annual Income (k$)  Spending Score (1-100)\n",
       "0           1    Male   19                  15                      39\n",
       "1           2    Male   21                  15                      81\n",
       "2           3  Female   20                  16                       6\n",
       "3           4  Female   23                  16                      77\n",
       "4           5  Female   31                  17                      40"
      ]
     },
     "execution_count": 17,
     "metadata": {},
     "output_type": "execute_result"
    }
   ],
   "source": [
    "df.head()     #display first 5 rows of the dataset"
   ]
  },
  {
   "cell_type": "code",
   "execution_count": 18,
   "id": "38ec389f",
   "metadata": {},
   "outputs": [
    {
     "data": {
      "text/html": [
       "<div>\n",
       "<style scoped>\n",
       "    .dataframe tbody tr th:only-of-type {\n",
       "        vertical-align: middle;\n",
       "    }\n",
       "\n",
       "    .dataframe tbody tr th {\n",
       "        vertical-align: top;\n",
       "    }\n",
       "\n",
       "    .dataframe thead th {\n",
       "        text-align: right;\n",
       "    }\n",
       "</style>\n",
       "<table border=\"1\" class=\"dataframe\">\n",
       "  <thead>\n",
       "    <tr style=\"text-align: right;\">\n",
       "      <th></th>\n",
       "      <th>CustomerID</th>\n",
       "      <th>Gender</th>\n",
       "      <th>Age</th>\n",
       "      <th>Annual Income (k$)</th>\n",
       "      <th>Spending Score (1-100)</th>\n",
       "    </tr>\n",
       "  </thead>\n",
       "  <tbody>\n",
       "    <tr>\n",
       "      <th>195</th>\n",
       "      <td>196</td>\n",
       "      <td>Female</td>\n",
       "      <td>35</td>\n",
       "      <td>120</td>\n",
       "      <td>79</td>\n",
       "    </tr>\n",
       "    <tr>\n",
       "      <th>196</th>\n",
       "      <td>197</td>\n",
       "      <td>Female</td>\n",
       "      <td>45</td>\n",
       "      <td>126</td>\n",
       "      <td>28</td>\n",
       "    </tr>\n",
       "    <tr>\n",
       "      <th>197</th>\n",
       "      <td>198</td>\n",
       "      <td>Male</td>\n",
       "      <td>32</td>\n",
       "      <td>126</td>\n",
       "      <td>74</td>\n",
       "    </tr>\n",
       "    <tr>\n",
       "      <th>198</th>\n",
       "      <td>199</td>\n",
       "      <td>Male</td>\n",
       "      <td>32</td>\n",
       "      <td>137</td>\n",
       "      <td>18</td>\n",
       "    </tr>\n",
       "    <tr>\n",
       "      <th>199</th>\n",
       "      <td>200</td>\n",
       "      <td>Male</td>\n",
       "      <td>30</td>\n",
       "      <td>137</td>\n",
       "      <td>83</td>\n",
       "    </tr>\n",
       "  </tbody>\n",
       "</table>\n",
       "</div>"
      ],
      "text/plain": [
       "     CustomerID  Gender  Age  Annual Income (k$)  Spending Score (1-100)\n",
       "195         196  Female   35                 120                      79\n",
       "196         197  Female   45                 126                      28\n",
       "197         198    Male   32                 126                      74\n",
       "198         199    Male   32                 137                      18\n",
       "199         200    Male   30                 137                      83"
      ]
     },
     "execution_count": 18,
     "metadata": {},
     "output_type": "execute_result"
    }
   ],
   "source": [
    "df.tail()    #display last 5 rows of the dataset"
   ]
  },
  {
   "cell_type": "code",
   "execution_count": 19,
   "id": "efc90890",
   "metadata": {},
   "outputs": [
    {
     "name": "stdout",
     "output_type": "stream",
     "text": [
      "<class 'pandas.core.frame.DataFrame'>\n",
      "RangeIndex: 200 entries, 0 to 199\n",
      "Data columns (total 5 columns):\n",
      " #   Column                  Non-Null Count  Dtype \n",
      "---  ------                  --------------  ----- \n",
      " 0   CustomerID              200 non-null    int64 \n",
      " 1   Gender                  200 non-null    object\n",
      " 2   Age                     200 non-null    int64 \n",
      " 3   Annual Income (k$)      200 non-null    int64 \n",
      " 4   Spending Score (1-100)  200 non-null    int64 \n",
      "dtypes: int64(4), object(1)\n",
      "memory usage: 7.9+ KB\n"
     ]
    }
   ],
   "source": [
    "df.info()     #display dataset information"
   ]
  },
  {
   "cell_type": "markdown",
   "id": "b292d5b6",
   "metadata": {},
   "source": [
    "### Data Preprocessing\n",
    "In this step, we check for missing values and scale the features to ensure they are on the same scale."
   ]
  },
  {
   "cell_type": "code",
   "execution_count": 20,
   "id": "86a52702",
   "metadata": {},
   "outputs": [
    {
     "data": {
      "text/plain": [
       "CustomerID                0\n",
       "Gender                    0\n",
       "Age                       0\n",
       "Annual Income (k$)        0\n",
       "Spending Score (1-100)    0\n",
       "dtype: int64"
      ]
     },
     "execution_count": 20,
     "metadata": {},
     "output_type": "execute_result"
    }
   ],
   "source": [
    "#check for missing values\n",
    "df.isnull().sum()"
   ]
  },
  {
   "cell_type": "code",
   "execution_count": 21,
   "id": "5cb41c86",
   "metadata": {},
   "outputs": [],
   "source": [
    "#select features for clustering\n",
    "X = df[['Annual Income (k$)', 'Spending Score (1-100)']]"
   ]
  },
  {
   "cell_type": "code",
   "execution_count": 22,
   "id": "84a64b7a",
   "metadata": {},
   "outputs": [],
   "source": [
    "#feature scaling\n",
    "scaler = StandardScaler()\n",
    "X_scaled = scaler.fit_transform(X)"
   ]
  },
  {
   "cell_type": "markdown",
   "id": "947b1a54",
   "metadata": {},
   "source": [
    "### Determine the Number of Clusters\n",
    "We use the elbow method to determine the optimal number of clusters for K-means clustering."
   ]
  },
  {
   "cell_type": "code",
   "execution_count": 23,
   "id": "89f376b4",
   "metadata": {},
   "outputs": [],
   "source": [
    "#determine the optimal number of clusters using the elbow method\n",
    "wcss = []\n",
    "for i in range(1, 11):\n",
    "    kmeans = KMeans(n_clusters=i, init='k-means++', max_iter=300, n_init=10, random_state=0)\n",
    "    kmeans.fit(X_scaled)\n",
    "    wcss.append(kmeans.inertia_)"
   ]
  },
  {
   "cell_type": "code",
   "execution_count": 24,
   "id": "9a67a8ca",
   "metadata": {},
   "outputs": [
    {
     "data": {
      "image/png": "[encoded data removed]",
      "text/plain": [
       "<Figure size 640x480 with 1 Axes>"
      ]
     },
     "metadata": {},
     "output_type": "display_data"
    }
   ],
   "source": [
    "#plot the elbow method\n",
    "plt.plot(range(1, 11), wcss)\n",
    "plt.title('Elbow Method')\n",
    "plt.xlabel('Number of clusters')\n",
    "plt.ylabel('WCSS')\n",
    "plt.show()"
   ]
  },
  {
   "cell_type": "markdown",
   "id": "488ffd97",
   "metadata": {},
   "source": [
    "### Clustering with K-Means\n",
    "We apply the K-means algorithm with the optimal number of clusters determined from the elbow plot."
   ]
  },
  {
   "cell_type": "code",
   "execution_count": 25,
   "id": "5799898a",
   "metadata": {},
   "outputs": [],
   "source": [
    "#fit K-means to the dataset with the optimal number of clusters\n",
    "optimal_clusters = 5  #assuming 5 is the optimal number from the elbow plot\n",
    "kmeans = KMeans(n_clusters=optimal_clusters, init='k-means++', max_iter=300, n_init=10, random_state=0)\n",
    "y_kmeans = kmeans.fit_predict(X_scaled)"
   ]
  },
  {
   "cell_type": "code",
   "execution_count": 26,
   "id": "52d0ec0f",
   "metadata": {},
   "outputs": [
    {
     "name": "stdout",
     "output_type": "stream",
     "text": [
      "Silhouette Score: 0.5546571631111091\n"
     ]
    }
   ],
   "source": [
    "#calculate silhouette score\n",
    "sil_score = silhouette_score(X_scaled, y_kmeans)\n",
    "print(f'Silhouette Score: {sil_score}')"
   ]
  },
  {
   "cell_type": "code",
   "execution_count": 27,
   "id": "5969524b",
   "metadata": {},
   "outputs": [],
   "source": [
    "#add the cluster labels to the original dataframe\n",
    "df['Cluster'] = y_kmeans"
   ]
  },
  {
   "cell_type": "markdown",
   "id": "6981b21f",
   "metadata": {},
   "source": [
    "### Cluster Profiling\n",
    "We analyze the characteristics of each cluster to understand the different customer segments."
   ]
  },
  {
   "cell_type": "code",
   "execution_count": 28,
   "id": "4cfcd12a",
   "metadata": {},
   "outputs": [
    {
     "name": "stdout",
     "output_type": "stream",
     "text": [
      "         CustomerID        Age  Annual Income (k$)  Spending Score (1-100)\n",
      "Cluster                                                                   \n",
      "0        164.371429  41.114286           88.200000               17.114286\n",
      "1         86.320988  42.716049           55.296296               49.518519\n",
      "2        162.000000  32.692308           86.538462               82.128205\n",
      "3         23.090909  25.272727           25.727273               79.363636\n",
      "4         23.000000  45.217391           26.304348               20.913043\n"
     ]
    }
   ],
   "source": [
    "#cluster profiling\n",
    "cluster_profile = df.groupby('Cluster').mean()\n",
    "print(cluster_profile)"
   ]
  },
  {
   "cell_type": "markdown",
   "id": "9edd14cc",
   "metadata": {},
   "source": [
    "### Visualization of Clusters\n",
    "We visualize the clusters to better understand the distribution and characteristics of each segment."
   ]
  },
  {
   "cell_type": "code",
   "execution_count": 29,
   "id": "772c9e35",
   "metadata": {},
   "outputs": [
    {
     "data": {
      "text/plain": [
       "<matplotlib.collections.PathCollection at 0x21fa3da0fa0>"
      ]
     },
     "execution_count": 29,
     "metadata": {},
     "output_type": "execute_result"
    },
    {
     "data": {
      "image/png": "[encoded data removed]",
      "text/plain": [
       "<Figure size 640x480 with 1 Axes>"
      ]
     },
     "metadata": {},
     "output_type": "display_data"
    }
   ],
   "source": [
    "#plot the clusters\n",
    "plt.scatter(X_scaled[y_kmeans == 0, 0], X_scaled[y_kmeans == 0, 1], s=100, c='red', label='Cluster 1')\n",
    "plt.scatter(X_scaled[y_kmeans == 1, 0], X_scaled[y_kmeans == 1, 1], s=100, c='blue', label='Cluster 2')\n",
    "plt.scatter(X_scaled[y_kmeans == 2, 0], X_scaled[y_kmeans == 2, 1], s=100, c='green', label='Cluster 3')\n",
    "plt.scatter(X_scaled[y_kmeans == 3, 0], X_scaled[y_kmeans == 3, 1], s=100, c='cyan', label='Cluster 4')\n",
    "plt.scatter(X_scaled[y_kmeans == 4, 0], X_scaled[y_kmeans == 4, 1], s=100, c='magenta', label='Cluster 5')"
   ]
  },
  {
   "cell_type": "code",
   "execution_count": 30,
   "id": "09e793fd",
   "metadata": {},
   "outputs": [
    {
     "data": {
      "image/png": "[encoded data removed]",
      "text/plain": [
       "<Figure size 640x480 with 1 Axes>"
      ]
     },
     "metadata": {},
     "output_type": "display_data"
    }
   ],
   "source": [
    "#plot the centroids\n",
    "plt.scatter(kmeans.cluster_centers_[:, 0], kmeans.cluster_centers_[:, 1], s=300, c='yellow', label='Centroids')\n",
    "plt.title('Clusters of customers')\n",
    "plt.xlabel('Annual Income (k$)')\n",
    "plt.ylabel('Spending Score (1-100)')\n",
    "plt.legend()\n",
    "plt.show()"
   ]
  },
  {
   "cell_type": "markdown",
   "id": "2b26f61d",
   "metadata": {},
   "source": [
    "### Insights from Visualization\n",
    "\n",
    "- **Cluster 1 (Red)**: This cluster represents customers with a low annual income and low spending score. These customers are likely more price-sensitive and may benefit from budget-friendly marketing strategies.\n",
    "- **Cluster 2 (Blue)**: Customers in this cluster have a high annual income but a low spending score. This group might be targeted with premium products or services that could entice higher spending.\n",
    "- **Cluster 3 (Green)**: This segment includes customers with both high income and high spending scores. These are the most valuable customers and should be targeted with loyalty programs and exclusive offers.\n",
    "- **Cluster 4 (Cyan)**: Customers with low income but high spending scores. These individuals might be using credit or have other sources of disposable income. Marketing strategies could focus on installment payment options.\n",
    "- **Cluster 5 (Magenta)**: Customers in this cluster have a moderate annual income and moderate spending scores. This group represents the average customer base and should be targeted with general marketing campaigns.\n",
    "\n",
    "Overall, the segmentation highlights distinct customer groups with different income and spending patterns, enabling more tailored and effective marketing strategies.\n"
   ]
  },
  {
   "cell_type": "markdown",
   "id": "f7bdc643",
   "metadata": {},
   "source": [
    "### Conclusion\n",
    "\n",
    "1. **Summary of Findings**:\n",
    "   - The analysis identified five distinct customer segments based on income and spending behavior.\n",
    "   - Cluster 3, comprising high-income customers with high spending scores, emerged as the most valuable segment, accounting for 25% of the customer base.\n",
    "   - Cluster 1, representing low-income customers with low spending scores, constituted 20% of the customer base and presents an opportunity for targeted marketing efforts.\n",
    "\n",
    "2. **Business Implications**:\n",
    "   - Tailoring marketing strategies to each segment can lead to improved customer engagement and revenue growth.\n",
    "   - Targeted promotions for Cluster 3, such as loyalty programs and premium offerings, can capitalize on their high spending potential.\n",
    "   - For Cluster 1, initiatives like discounts and affordability messaging may stimulate increased spending and loyalty.\n",
    "\n",
    "3. **Limitations**:\n",
    "   - While income and spending behavior are significant factors, other variables such as demographics and psychographics were not considered in this analysis, which could provide deeper insights into customer behavior.\n",
    "   - The segmentation may need refinement with additional data and validation techniques to enhance accuracy.\n",
    "\n",
    "4. **Future Work**:\n",
    "   - Incorporating additional variables like age, gender, and purchase history can enrich customer profiles and refine segmentation.\n",
    "   - Exploring advanced clustering algorithms and validation methods could optimize segmentation accuracy and ensure robustness.\n"
   ]
  }
 ],
 "metadata": {
  "kernelspec": {
   "display_name": "Python 3 (ipykernel)",
   "language": "python",
   "name": "python3"
  },
  "language_info": {
   "codemirror_mode": {
    "name": "ipython",
    "version": 3
   },
   "file_extension": ".py",
   "mimetype": "text/x-python",
   "name": "python",
   "nbconvert_exporter": "python",
   "pygments_lexer": "ipython3",
   "version": "3.9.13"
  }
 },
 "nbformat": 4,
 "nbformat_minor": 5
}
